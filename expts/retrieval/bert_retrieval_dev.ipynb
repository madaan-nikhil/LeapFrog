{
  "cells": [
    {
      "cell_type": "code",
      "execution_count": null,
      "id": "ba6f8835",
      "metadata": {
        "id": "ba6f8835",
        "colab": {
          "base_uri": "https://localhost:8080/"
        },
        "outputId": "e3c3e212-c994-446e-a858-2befc0b83131"
      },
      "outputs": [
        {
          "output_type": "stream",
          "name": "stdout",
          "text": [
            "Collecting ftfy\n",
            "  Downloading ftfy-6.1.1-py3-none-any.whl (53 kB)\n",
            "\u001b[?25l\r\u001b[K     |██████▏                         | 10 kB 9.0 MB/s eta 0:00:01\r\u001b[K     |████████████▍                   | 20 kB 2.2 MB/s eta 0:00:01\r\u001b[K     |██████████████████▌             | 30 kB 3.2 MB/s eta 0:00:01\r\u001b[K     |████████████████████████▊       | 40 kB 4.1 MB/s eta 0:00:01\r\u001b[K     |██████████████████████████████▉ | 51 kB 4.0 MB/s eta 0:00:01\r\u001b[K     |████████████████████████████████| 53 kB 601 kB/s \n",
            "\u001b[?25hRequirement already satisfied: regex in /usr/local/lib/python3.7/dist-packages (2019.12.20)\n",
            "Requirement already satisfied: tqdm in /usr/local/lib/python3.7/dist-packages (4.64.0)\n",
            "Requirement already satisfied: wcwidth>=0.2.5 in /usr/local/lib/python3.7/dist-packages (from ftfy) (0.2.5)\n",
            "Installing collected packages: ftfy\n",
            "Successfully installed ftfy-6.1.1\n"
          ]
        }
      ],
      "source": [
        "! pip install ftfy regex tqdm\n",
        "  # ! pip install git+https://github.com/openai/CLIP.git"
      ]
    },
    {
      "cell_type": "code",
      "source": [
        "!sudo add-apt-repository -y ppa:alessandro-strada/ppa 2>&1 > /dev/null\n",
        "!sudo apt-get update -qq 2>&1 > /dev/null\n",
        "!sudo apt -y install -qq google-drive-ocamlfuse 2>&1 > /dev/null\n",
        "!google-drive-ocamlfuse\n",
        "\n",
        "!sudo apt-get install -qq w3m # to act as web browser \n",
        "!xdg-settings set default-web-browser w3m.desktop # to set default browser\n",
        "%cd /content\n",
        "!mkdir drive\n",
        "%cd drive\n",
        "!mkdir MyDrive\n",
        "%cd ..\n",
        "!google-drive-ocamlfuse /content/drive/MyDrive"
      ],
      "metadata": {
        "colab": {
          "base_uri": "https://localhost:8080/"
        },
        "id": "KjEwew6xtcI8",
        "outputId": "22cdcbc9-cc56-4f7c-b2f0-1cc4da3ecf35"
      },
      "id": "KjEwew6xtcI8",
      "execution_count": null,
      "outputs": [
        {
          "output_type": "stream",
          "name": "stdout",
          "text": [
            "W: GPG error: https://developer.download.nvidia.com/compute/cuda/repos/ubuntu1804/x86_64  InRelease: The following signatures couldn't be verified because the public key is not available: NO_PUBKEY A4B469963BF863CC\n",
            "E: The repository 'https://developer.download.nvidia.com/compute/cuda/repos/ubuntu1804/x86_64  InRelease' is no longer signed.\n",
            "W: GPG error: https://developer.download.nvidia.com/compute/cuda/repos/ubuntu1804/x86_64  InRelease: The following signatures couldn't be verified because the public key is not available: NO_PUBKEY A4B469963BF863CC\n",
            "E: The repository 'https://developer.download.nvidia.com/compute/cuda/repos/ubuntu1804/x86_64  InRelease' is no longer signed.\n",
            "\n",
            "WARNING: apt does not have a stable CLI interface. Use with caution in scripts.\n",
            "\n",
            "debconf: unable to initialize frontend: Dialog\n",
            "debconf: (No usable dialog-like program is installed, so the dialog based frontend cannot be used. at /usr/share/perl5/Debconf/FrontEnd/Dialog.pm line 76, <> line 1.)\n",
            "debconf: falling back to frontend: Readline\n",
            "debconf: unable to initialize frontend: Readline\n",
            "debconf: (This frontend requires a controlling tty.)\n",
            "debconf: falling back to frontend: Teletype\n",
            "dpkg-preconfigure: unable to re-open stdin: \n",
            "/usr/bin/xdg-open: 851: /usr/bin/xdg-open: www-browser: not found\n",
            "/usr/bin/xdg-open: 851: /usr/bin/xdg-open: links2: not found\n",
            "/usr/bin/xdg-open: 851: /usr/bin/xdg-open: elinks: not found\n",
            "/usr/bin/xdg-open: 851: /usr/bin/xdg-open: links: not found\n",
            "/usr/bin/xdg-open: 851: /usr/bin/xdg-open: lynx: not found\n",
            "/usr/bin/xdg-open: 851: /usr/bin/xdg-open: w3m: not found\n",
            "xdg-open: no method available for opening 'https://accounts.google.com/o/oauth2/auth?client_id=564921029129.apps.googleusercontent.com&redirect_uri=https%3A%2F%2Fgd-ocaml-auth.appspot.com%2Foauth2callback&scope=https%3A%2F%2Fwww.googleapis.com%2Fauth%2Fdrive&response_type=code&access_type=offline&approval_prompt=force&state=Ut81UalU%2FdkmzKR-CJu4b-5yWXKlVJqHqe29pcWjGOU'\n",
            "/bin/sh: 1: firefox: not found\n",
            "/bin/sh: 1: google-chrome: not found\n",
            "/bin/sh: 1: chromium-browser: not found\n",
            "/bin/sh: 1: open: not found\n",
            "Cannot retrieve auth tokens.\n",
            "Failure(\"Error opening URL:https://accounts.google.com/o/oauth2/auth?client_id=564921029129.apps.googleusercontent.com&redirect_uri=https%3A%2F%2Fgd-ocaml-auth.appspot.com%2Foauth2callback&scope=https%3A%2F%2Fwww.googleapis.com%2Fauth%2Fdrive&response_type=code&access_type=offline&approval_prompt=force&state=Ut81UalU%2FdkmzKR-CJu4b-5yWXKlVJqHqe29pcWjGOU\")\n",
            "debconf: unable to initialize frontend: Dialog\n",
            "debconf: (No usable dialog-like program is installed, so the dialog based frontend cannot be used. at /usr/share/perl5/Debconf/FrontEnd/Dialog.pm line 76, <> line 2.)\n",
            "debconf: falling back to frontend: Readline\n",
            "debconf: unable to initialize frontend: Readline\n",
            "debconf: (This frontend requires a controlling tty.)\n",
            "debconf: falling back to frontend: Teletype\n",
            "dpkg-preconfigure: unable to re-open stdin: \n",
            "Selecting previously unselected package libgpm2:amd64.\n",
            "(Reading database ... 155519 files and directories currently installed.)\n",
            "Preparing to unpack .../libgpm2_1.20.7-5_amd64.deb ...\n",
            "Unpacking libgpm2:amd64 (1.20.7-5) ...\n",
            "Selecting previously unselected package w3m.\n",
            "Preparing to unpack .../w3m_0.5.3-36build1_amd64.deb ...\n",
            "Unpacking w3m (0.5.3-36build1) ...\n",
            "Setting up libgpm2:amd64 (1.20.7-5) ...\n",
            "Setting up w3m (0.5.3-36build1) ...\n",
            "Processing triggers for mime-support (3.60ubuntu1) ...\n",
            "Processing triggers for libc-bin (2.27-3ubuntu1.3) ...\n",
            "/sbin/ldconfig.real: /usr/local/lib/python3.7/dist-packages/ideep4py/lib/libmkldnn.so.0 is not a symbolic link\n",
            "\n",
            "Processing triggers for man-db (2.8.3-2ubuntu0.1) ...\n",
            "/content\n",
            "/content/drive\n",
            "/content\n",
            "Access token retrieved correctly.\n"
          ]
        }
      ]
    },
    {
      "cell_type": "markdown",
      "id": "f168272d",
      "metadata": {
        "id": "f168272d"
      },
      "source": [
        "# Source retrieval with CLIP"
      ]
    },
    {
      "cell_type": "code",
      "execution_count": null,
      "id": "9b3c5b61",
      "metadata": {
        "id": "9b3c5b61",
        "outputId": "c6a1494c-7fc8-4de4-8394-22b0b7edf6a3",
        "colab": {
          "base_uri": "https://localhost:8080/",
          "height": 933,
          "referenced_widgets": [
            "d7a176d224a0441285a8c56d8e402a64",
            "5892bd63d0764fa0951a26a15c94565d",
            "10be3f9fc80b489d8d064a6556b7bad8",
            "f0a28cad61ea43a98213e4c7009003f7",
            "776245424d904f0ca45526cd7e980433",
            "184739f54dac48599d3981b2ba7fae27",
            "6a25278801d242d7a50ebeca52dbe92c",
            "485dc964951b4e9a8d88eb11b31052dc",
            "031fa72898714d529389deadccd790c1",
            "944203b9c6f04e7da12ae9538160cd9e",
            "68adc48c7a894c8aa91913800f41d6b4",
            "1f99ed04dc3d414b84d6ad719dd09d4f",
            "d49d123663d84d3bbcd4957b1388b9eb",
            "70eea31bc42c4878b9dd97a6e23711d1",
            "9ad4aec2baef46729f8d6969accc7fe0",
            "f1f6bb4a029249af8610a0e6343d4e17",
            "cf992edd89aa4d81aad9f44cd718bff0",
            "ae080dfc5a154a74ab203e9c71259572",
            "1df7d5de84e545af8ee41fccdffd358a",
            "05f153d49ddd4116aef9e21cc3fd24b0",
            "d8e15cd5460d4da6bd938c7afc58b068",
            "74e8b2af855a45ae8c0fe6884b378c5b",
            "a1370587259642ad960847faa754a181",
            "1b636d2102dc45ecb045faf02e0381c4",
            "d3141db01d824c1f9d52af057a6be737",
            "1b955c8425ce4aacbe485071f084922a",
            "22f24d2a0609443e9cecb67292338e25",
            "84733d0c00c24a368ee64753a9bc4471",
            "8491214c41c042f1ad8689e645500ce5",
            "4594c32c0fc34027ba537c44bf206d49",
            "c0aa1f783cbd4784ac0a5ce5e0b67f67",
            "033aa1f0f9524f1887b7ef1bc7324ba0",
            "7ca3d07608cb44c091475af20b25f2e2",
            "52d61ac716864021911334fc7cae2ff0",
            "283e3c60eda549859838bf5ada91349f",
            "dd1c103981a4452e9a38265f3f06a3cb",
            "e52118abb48a494b84073e997a69ec27",
            "dfc78f8cb44c4d2a91d01348ec3612aa",
            "5082827d666249aa9fc145153e641226",
            "e6e52ae5de744bf29cc0d8c7cd43ad74",
            "b9686f066da34632b52b89ab95c310bd",
            "506aec899adf45d9ba14bac7aee112a0",
            "5bb68f1e95bb4d978d99c859b21edbfd",
            "6630d805fb7248edbdf21c824dfb4f3f"
          ]
        }
      },
      "outputs": [
        {
          "output_type": "stream",
          "name": "stdout",
          "text": [
            "Collecting transformers\n",
            "  Downloading transformers-4.18.0-py3-none-any.whl (4.0 MB)\n",
            "\u001b[K     |████████████████████████████████| 4.0 MB 5.3 MB/s \n",
            "\u001b[?25hRequirement already satisfied: importlib-metadata in /usr/local/lib/python3.7/dist-packages (from transformers) (4.11.3)\n",
            "Requirement already satisfied: regex!=2019.12.17 in /usr/local/lib/python3.7/dist-packages (from transformers) (2019.12.20)\n",
            "Collecting pyyaml>=5.1\n",
            "  Downloading PyYAML-6.0-cp37-cp37m-manylinux_2_5_x86_64.manylinux1_x86_64.manylinux_2_12_x86_64.manylinux2010_x86_64.whl (596 kB)\n",
            "\u001b[K     |████████████████████████████████| 596 kB 43.4 MB/s \n",
            "\u001b[?25hRequirement already satisfied: packaging>=20.0 in /usr/local/lib/python3.7/dist-packages (from transformers) (21.3)\n",
            "Collecting tokenizers!=0.11.3,<0.13,>=0.11.1\n",
            "  Downloading tokenizers-0.12.1-cp37-cp37m-manylinux_2_12_x86_64.manylinux2010_x86_64.whl (6.6 MB)\n",
            "\u001b[K     |████████████████████████████████| 6.6 MB 11.9 MB/s \n",
            "\u001b[?25hRequirement already satisfied: filelock in /usr/local/lib/python3.7/dist-packages (from transformers) (3.6.0)\n",
            "Requirement already satisfied: numpy>=1.17 in /usr/local/lib/python3.7/dist-packages (from transformers) (1.21.6)\n",
            "Requirement already satisfied: tqdm>=4.27 in /usr/local/lib/python3.7/dist-packages (from transformers) (4.64.0)\n",
            "Collecting sacremoses\n",
            "  Downloading sacremoses-0.0.49-py3-none-any.whl (895 kB)\n",
            "\u001b[K     |████████████████████████████████| 895 kB 6.3 MB/s \n",
            "\u001b[?25hCollecting huggingface-hub<1.0,>=0.1.0\n",
            "  Downloading huggingface_hub-0.5.1-py3-none-any.whl (77 kB)\n",
            "\u001b[K     |████████████████████████████████| 77 kB 8.0 MB/s \n",
            "\u001b[?25hRequirement already satisfied: requests in /usr/local/lib/python3.7/dist-packages (from transformers) (2.23.0)\n",
            "Requirement already satisfied: typing-extensions>=3.7.4.3 in /usr/local/lib/python3.7/dist-packages (from huggingface-hub<1.0,>=0.1.0->transformers) (4.2.0)\n",
            "Requirement already satisfied: pyparsing!=3.0.5,>=2.0.2 in /usr/local/lib/python3.7/dist-packages (from packaging>=20.0->transformers) (3.0.8)\n",
            "Requirement already satisfied: zipp>=0.5 in /usr/local/lib/python3.7/dist-packages (from importlib-metadata->transformers) (3.8.0)\n",
            "Requirement already satisfied: chardet<4,>=3.0.2 in /usr/local/lib/python3.7/dist-packages (from requests->transformers) (3.0.4)\n",
            "Requirement already satisfied: idna<3,>=2.5 in /usr/local/lib/python3.7/dist-packages (from requests->transformers) (2.10)\n",
            "Requirement already satisfied: urllib3!=1.25.0,!=1.25.1,<1.26,>=1.21.1 in /usr/local/lib/python3.7/dist-packages (from requests->transformers) (1.24.3)\n",
            "Requirement already satisfied: certifi>=2017.4.17 in /usr/local/lib/python3.7/dist-packages (from requests->transformers) (2021.10.8)\n",
            "Requirement already satisfied: click in /usr/local/lib/python3.7/dist-packages (from sacremoses->transformers) (7.1.2)\n",
            "Requirement already satisfied: six in /usr/local/lib/python3.7/dist-packages (from sacremoses->transformers) (1.15.0)\n",
            "Requirement already satisfied: joblib in /usr/local/lib/python3.7/dist-packages (from sacremoses->transformers) (1.1.0)\n",
            "Installing collected packages: pyyaml, tokenizers, sacremoses, huggingface-hub, transformers\n",
            "  Attempting uninstall: pyyaml\n",
            "    Found existing installation: PyYAML 3.13\n",
            "    Uninstalling PyYAML-3.13:\n",
            "      Successfully uninstalled PyYAML-3.13\n",
            "Successfully installed huggingface-hub-0.5.1 pyyaml-6.0 sacremoses-0.0.49 tokenizers-0.12.1 transformers-4.18.0\n",
            "Torch version: 1.11.0+cu113\n"
          ]
        },
        {
          "output_type": "display_data",
          "data": {
            "text/plain": [
              "Downloading:   0%|          | 0.00/208k [00:00<?, ?B/s]"
            ],
            "application/vnd.jupyter.widget-view+json": {
              "version_major": 2,
              "version_minor": 0,
              "model_id": "d7a176d224a0441285a8c56d8e402a64"
            }
          },
          "metadata": {}
        },
        {
          "output_type": "display_data",
          "data": {
            "text/plain": [
              "Downloading:   0%|          | 0.00/29.0 [00:00<?, ?B/s]"
            ],
            "application/vnd.jupyter.widget-view+json": {
              "version_major": 2,
              "version_minor": 0,
              "model_id": "1f99ed04dc3d414b84d6ad719dd09d4f"
            }
          },
          "metadata": {}
        },
        {
          "output_type": "display_data",
          "data": {
            "text/plain": [
              "Downloading:   0%|          | 0.00/570 [00:00<?, ?B/s]"
            ],
            "application/vnd.jupyter.widget-view+json": {
              "version_major": 2,
              "version_minor": 0,
              "model_id": "a1370587259642ad960847faa754a181"
            }
          },
          "metadata": {}
        },
        {
          "output_type": "display_data",
          "data": {
            "text/plain": [
              "Downloading:   0%|          | 0.00/416M [00:00<?, ?B/s]"
            ],
            "application/vnd.jupyter.widget-view+json": {
              "version_major": 2,
              "version_minor": 0,
              "model_id": "52d61ac716864021911334fc7cae2ff0"
            }
          },
          "metadata": {}
        },
        {
          "output_type": "stream",
          "name": "stderr",
          "text": [
            "Some weights of the model checkpoint at bert-base-cased were not used when initializing BertModel: ['cls.predictions.bias', 'cls.seq_relationship.bias', 'cls.predictions.transform.dense.bias', 'cls.predictions.decoder.weight', 'cls.seq_relationship.weight', 'cls.predictions.transform.dense.weight', 'cls.predictions.transform.LayerNorm.weight', 'cls.predictions.transform.LayerNorm.bias']\n",
            "- This IS expected if you are initializing BertModel from the checkpoint of a model trained on another task or with another architecture (e.g. initializing a BertForSequenceClassification model from a BertForPreTraining model).\n",
            "- This IS NOT expected if you are initializing BertModel from the checkpoint of a model that you expect to be exactly identical (initializing a BertForSequenceClassification model from a BertForSequenceClassification model).\n"
          ]
        },
        {
          "output_type": "stream",
          "name": "stdout",
          "text": [
            "Model parameters: 108,310,272\n"
          ]
        }
      ],
      "source": [
        "import os\n",
        "import json\n",
        "import torch\n",
        "# import clip\n",
        "import numpy as np\n",
        "import IPython.display\n",
        "import matplotlib.pyplot as plt\n",
        "\n",
        "import seaborn as sns\n",
        "from tqdm import tqdm\n",
        "import pickle\n",
        "%pip install transformers\n",
        "from transformers import BertTokenizer\n",
        "from transformers import BertModel, BertConfig\n",
        "from PIL import Image\n",
        "from collections import OrderedDict\n",
        "\n",
        "%matplotlib inline\n",
        "%config InlineBackend.figure_format = 'retina'\n",
        "\n",
        "print(\"Torch version:\", torch.__version__)\n",
        "\n",
        "\n",
        "device = torch.device(\"cuda\" if torch.cuda.is_available() else \"cpu\")\n",
        "\n",
        "tokenizer = BertTokenizer.from_pretrained('bert-base-cased')\n",
        "model = BertModel.from_pretrained('bert-base-cased')\n",
        "model.to(device).eval()\n",
        "# input_resolution = model.visual.input_resolution\n",
        "# context_length   = model.context_length\n",
        "# vocab_size       = model.vocab_size\n",
        "\n",
        "print(\"Model parameters:\", f\"{np.sum([int(np.prod(p.shape)) for p in model.parameters()]):,}\")\n",
        "\n",
        "# print(\"Context length:\",   context_length)\n",
        "# print(\"Vocab size:\",       vocab_size)"
      ]
    },
    {
      "cell_type": "markdown",
      "id": "33cb8009",
      "metadata": {
        "id": "33cb8009"
      },
      "source": [
        "## Load distances"
      ]
    },
    {
      "cell_type": "code",
      "execution_count": null,
      "id": "ec836c6e",
      "metadata": {
        "id": "ec836c6e",
        "colab": {
          "base_uri": "https://localhost:8080/"
        },
        "outputId": "7d3e7f09-6ac8-4e94-d27e-357415e04df7"
      },
      "outputs": [
        {
          "output_type": "execute_result",
          "data": {
            "text/plain": [
              "dict_keys(['Q', 'A', 'topic', 'split', 'Qcate', 'Guid', 'img_posFacts', 'img_negFacts', 'txt_negFacts', 'txt_posFacts'])"
            ]
          },
          "metadata": {},
          "execution_count": 4
        }
      ],
      "source": [
        "with open('/content/drive/MyDrive/IDL-Project/WebQA_data_first_release/WebQA_train_val.json') as f:\n",
        "    json_dict = json.load(f)\n",
        "\n",
        "json_dict[list(json_dict.keys())[0]].keys()"
      ]
    },
    {
      "cell_type": "markdown",
      "id": "b499dc98",
      "metadata": {
        "id": "b499dc98"
      },
      "source": [
        "# Retrieval F1"
      ]
    },
    {
      "cell_type": "code",
      "source": [
        "size_dev_set = 0\n",
        "\n",
        "for key, value in json_dict.items():\n",
        "    if json_dict[key]['split'] != 'val':\n",
        "        continue\n",
        "    size_dev_set += 1"
      ],
      "metadata": {
        "id": "73YL35cAz3GK"
      },
      "id": "73YL35cAz3GK",
      "execution_count": null,
      "outputs": []
    },
    {
      "cell_type": "code",
      "execution_count": null,
      "id": "702a1ebf",
      "metadata": {
        "id": "702a1ebf",
        "outputId": "b25032fa-aabc-4fcb-94cf-5d93f53bbb21"
      },
      "outputs": [
        {
          "name": "stdout",
          "output_type": "stream",
          "text": [
            "0.15722543352601157\n"
          ]
        }
      ],
      "source": [
        "retrieved = 0\n",
        "relevant  = 0\n",
        "retrieved_and_relevant = 0\n",
        "threshold = 0.77\n",
        "\n",
        "for key, value in json_dict.items():\n",
        "    if json_dict[key]['split'] != 'val':\n",
        "        continue\n",
        "\n",
        "    modality = None\n",
        "\n",
        "    if len(json_dict[key]['img_posFacts']) > 0:\n",
        "        for positive_img in json_dict[key]['img_posFacts']:\n",
        "            retrieved              += positive_img['title_q_similarity'] > threshold\n",
        "            retrieved_and_relevant += positive_img['title_q_similarity'] > threshold\n",
        "            relevant += 1\n",
        "            modality = 'img'\n",
        "\n",
        "    elif len(json_dict[key]['txt_posFacts']) > 0:\n",
        "        for positive_txt in json_dict[key]['txt_posFacts']:\n",
        "            retrieved              += positive_txt['fact_q_similarity'] > threshold\n",
        "            retrieved_and_relevant += positive_txt['fact_q_similarity'] > threshold\n",
        "            relevant += 1\n",
        "            modality = 'txt'\n",
        "\n",
        "    if (len(json_dict[key]['img_negFacts']) > 0) :\n",
        "        for negative_img in json_dict[key]['img_negFacts']:\n",
        "            retrieved += negative_img['title_q_similarity'] > threshold\n",
        "            \n",
        "    if (len(json_dict[key]['txt_negFacts']) > 0) :\n",
        "        for negative_txt in json_dict[key]['txt_negFacts']:\n",
        "            retrieved += negative_txt['fact_q_similarity'] > threshold\n",
        "\n",
        "precision = retrieved_and_relevant / retrieved\n",
        "recall    = retrieved_and_relevant / relevant\n",
        "f1        = 2 * (precision * recall) / (precision + recall)\n",
        "\n",
        "print(f1)"
      ]
    },
    {
      "cell_type": "markdown",
      "id": "75ff248d",
      "metadata": {
        "id": "75ff248d"
      },
      "source": [
        "## Load dataset"
      ]
    },
    {
      "cell_type": "code",
      "execution_count": null,
      "id": "e5c43410",
      "metadata": {
        "id": "e5c43410",
        "outputId": "7919212a-a623-4c20-d42d-c47a140676b1",
        "colab": {
          "base_uri": "https://localhost:8080/"
        }
      },
      "outputs": [
        {
          "output_type": "execute_result",
          "data": {
            "text/plain": [
              "dict_keys(['Q', 'A', 'topic', 'split', 'Qcate', 'Guid', 'img_posFacts', 'img_negFacts', 'txt_negFacts', 'txt_posFacts'])"
            ]
          },
          "metadata": {},
          "execution_count": 6
        }
      ],
      "source": [
        "with open('/content/drive/MyDrive/IDL-Project/WebQA_data_first_release/WebQA_train_val.json') as f:\n",
        "    json_dict = json.load(f)\n",
        "\n",
        "json_dict[list(json_dict.keys())[0]].keys()"
      ]
    },
    {
      "cell_type": "markdown",
      "id": "3a43ff04",
      "metadata": {
        "id": "3a43ff04"
      },
      "source": [
        "## Compute similarities"
      ]
    },
    {
      "cell_type": "code",
      "execution_count": null,
      "id": "806e0e73",
      "metadata": {
        "id": "806e0e73",
        "colab": {
          "base_uri": "https://localhost:8080/"
        },
        "outputId": "ccbc4f71-f7a2-4925-9b40-99815187278f"
      },
      "outputs": [
        {
          "output_type": "stream",
          "name": "stderr",
          "text": [
            "Similarities: 100%|██████████| 4966/4966 [3:28:52<00:00,  2.52s/it]\n"
          ]
        }
      ],
      "source": [
        "distances_dict = json_dict\n",
        "\n",
        "batch_bar = tqdm(total=size_dev_set, dynamic_ncols=True, desc='Similarities', position=0, leave=True) \n",
        "\n",
        "source_types = {'img_posFacts' : ['title', 'caption'],\n",
        "                'img_negFacts' : ['title', 'caption'],\n",
        "                'txt_negFacts' : ['title', 'fact'],\n",
        "                'txt_posFacts' : ['title', 'fact']}\n",
        "\n",
        "def encode_text(txt):\n",
        "    tokens = tokenizer(txt, \n",
        "                        padding='max_length', max_length = 512, truncation=True,\n",
        "                        return_tensors=\"pt\")\n",
        "    mask = tokens['attention_mask'].to(device)\n",
        "    input_id = tokens['input_ids'].squeeze(1).to(device)\n",
        "    _, pooled_output = model(input_ids=input_id, attention_mask=mask,return_dict=False)\n",
        "\n",
        "    return pooled_output\n",
        "\n",
        "\n",
        "\n",
        "with torch.no_grad():\n",
        "    for i, (key, qa) in enumerate(json_dict.items()):\n",
        "        # Encode question\n",
        "        question          = qa['Q'][1:-2][:76]\n",
        "        # question_tokens = tokenizer(question, \n",
        "        #                        padding='max_length', max_length = 512, truncation=True,\n",
        "        #                         return_tensors=\"pt\")\n",
        "        \n",
        "        # mask = question_tokens['attention_mask'].to(device)\n",
        "        # input_id = question_tokens['input_ids'].squeeze(1).to(device)\n",
        "        # _, pooled_output = model(input_ids=input_id, attention_mask=mask,return_dict=False)\n",
        "        # question_tokens   = clip.tokenize([question]).to(\"cuda\")\n",
        "        \n",
        "        question_features = encode_text(question).float()\n",
        "        question_features /= question_features.norm(dim=-1, keepdim=True)\n",
        "\n",
        "        # Compute similarity only for validation pairs\n",
        "        if qa['split'] != 'val':\n",
        "            continue\n",
        "\n",
        "        # img_pos, img_neg, txt_pos, txt_neg\n",
        "        for source_type, subkeys in source_types.items():\n",
        "            if len(qa[source_type]) > 0:\n",
        "                # Titles, captions/facts\n",
        "                for subkey in subkeys:\n",
        "                    try:\n",
        "                        # text_tokens   = clip.tokenize( [txt[subkey][:70] for txt in qa[source_type]] ).to(\"cuda\")\n",
        "                        \n",
        "                        text_features = encode_text([txt[subkey][:70] for txt in qa[source_type]]).float()\n",
        "                        text_features /= text_features.norm(dim=-1, keepdim=True)\n",
        "\n",
        "                        # Compute similarity\n",
        "                        text_similarity = torch.matmul(question_features, text_features.T).squeeze(0)\n",
        "\n",
        "                        for i in range(len(distances_dict[key][source_type])):\n",
        "                            distances_dict[key][source_type][i][str(subkey) + '_q_similarity'] = text_similarity[i].detach().cpu().item()\n",
        "\n",
        "                    except RuntimeError:\n",
        "                        print(\"Oopsie\")\n",
        "                        for i in range(len(distances_dict[key][source_type])):\n",
        "                            distances_dict[key][source_type][i][str(subkey) + '_q_similarity'] = 0         \n",
        "        batch_bar.update()\n",
        "\n",
        "batch_bar.close()"
      ]
    },
    {
      "cell_type": "markdown",
      "id": "e2f3d8fe",
      "metadata": {
        "id": "e2f3d8fe"
      },
      "source": [
        "# PCA for funsies"
      ]
    },
    {
      "cell_type": "code",
      "source": [
        ""
      ],
      "metadata": {
        "id": "UjporkvVtlYy"
      },
      "id": "UjporkvVtlYy",
      "execution_count": null,
      "outputs": []
    },
    {
      "cell_type": "code",
      "execution_count": null,
      "id": "10296159",
      "metadata": {
        "id": "10296159",
        "outputId": "e8ed0916-e022-464e-c556-1f5c17505f18"
      },
      "outputs": [
        {
          "name": "stderr",
          "output_type": "stream",
          "text": [
            "Dev Similarities: 100%|██████████| 150/150 [12:25<00:00,  4.97s/it]\n"
          ]
        }
      ],
      "source": [
        "batch_bar = tqdm(total=150, dynamic_ncols=True, desc='Dev Similarities') \n",
        "\n",
        "\n",
        "source_types = {'img_posFacts' : ['title', 'caption'],\n",
        "                'img_negFacts' : ['title', 'caption'],\n",
        "                'txt_negFacts' : ['title', 'fact'],\n",
        "                'txt_posFacts' : ['title', 'fact']}\n",
        "\n",
        "features = []\n",
        "with torch.no_grad():\n",
        "    for i, (key, qa) in enumerate(json_dict.items()):\n",
        "        if i >= 150:\n",
        "            break\n",
        "        # Encode question\n",
        "        question          = qa['Q'][1:-2]\n",
        "        question_tokens   = clip.tokenize([question])\n",
        "        \n",
        "        input_id = question_tokens['input_ids'].squeeze().cuda()\n",
        "        mask = question_tokens['attention_mask'].cuda()\n",
        "\n",
        "        question_features = model.encode_text(question_tokens).float()\n",
        "        question_features /= question_features.norm(dim=-1, keepdim=True)\n",
        "\n",
        "        features.append(question_features)\n",
        "        # img_pos, img_neg, txt_pos, txt_neg\n",
        "        for source_type, subkeys in source_types.items():\n",
        "            if len(qa[source_type]) > 0:\n",
        "\n",
        "                # Titles, captions/facts\n",
        "                for subkey in subkeys:\n",
        "                    text_tokens   = clip.tokenize( [txt[subkey][:60] for txt in qa[source_type]] )\n",
        "                    text_features = model.encode_text(text_tokens)\n",
        "                    text_features /= text_features.norm(dim=-1, keepdim=True)\n",
        "                    features.append(text_features.detach().numpy())\n",
        "\n",
        "        batch_bar.update()\n",
        "\n",
        "batch_bar.close()"
      ]
    },
    {
      "cell_type": "code",
      "execution_count": null,
      "id": "dcb12d9b",
      "metadata": {
        "id": "dcb12d9b"
      },
      "outputs": [],
      "source": [
        "from sklearn.decomposition import PCA\n",
        "\n",
        "pca = PCA(n_components=2)\n",
        "pca.fit(np.vstack(features))\n",
        "\n",
        "#i = np.random.randint(150)\n",
        "\n",
        "question = json_dict[list(json_dict.keys())[i]]['Q'][1:-2]\n",
        "question_tokens   = clip.tokenize([question])\n",
        "question_features = model.encode_text(question_tokens)\n",
        "question_features /= question_features.norm(dim=-1, keepdim=True)\n",
        "tquestion_features = pca.transform(question_features.detach().numpy())\n",
        "\n",
        "\n",
        "text_tokens = clip.tokenize( [ a['fact'][:60]  for a in json_dict[list(json_dict.keys())[i]]['txt_negFacts'] ]) \n",
        "txtneg_features = model.encode_text(text_tokens)\n",
        "txtneg_features /= txtneg_features.norm(dim=-1, keepdim=True)\n",
        "txtneg_features = np.vstack(txtneg_features.detach().numpy())\n",
        "ttxtneg_features = pca.transform(txtneg_features)\n",
        "\n",
        "text_tokens = clip.tokenize([ a['title'][:60]  for a in json_dict[list(json_dict.keys())[i]]['img_negFacts'] ])\n",
        "imgneg_features = model.encode_text(text_tokens)\n",
        "imgneg_features /= imgneg_features.norm(dim=-1, keepdim=True)\n",
        "imgneg_features = np.vstack(imgneg_features.detach().numpy())\n",
        "timgneg_features = pca.transform(imgneg_features)\n",
        "\n",
        "\n",
        "text_tokens = clip.tokenize([ a['title'][:60]  for a in json_dict[list(json_dict.keys())[i]]['img_posFacts'] ])\n",
        "imgpos_features = model.encode_text(text_tokens)\n",
        "imgpos_features /= imgpos_features.norm(dim=-1, keepdim=True)\n",
        "imgpos_features = np.vstack(imgpos_features.detach().numpy())\n",
        "timgpos_features = pca.transform(imgpos_features)"
      ]
    },
    {
      "cell_type": "code",
      "execution_count": null,
      "id": "04939567",
      "metadata": {
        "id": "04939567",
        "outputId": "911f4ab8-c46c-47d8-f892-4a7db4ae7c99"
      },
      "outputs": [
        {
          "data": {
            "text/plain": [
              "Text(0, 0.5, 'PC2')"
            ]
          },
          "execution_count": 79,
          "metadata": {},
          "output_type": "execute_result"
        },
        {
          "data": {
            "image/png": "[encoded data removed]",
            "text/plain": [
              "<Figure size 1080x1080 with 1 Axes>"
            ]
          },
          "metadata": {
            "image/png": {
              "height": 864,
              "width": 898
            }
          },
          "output_type": "display_data"
        }
      ],
      "source": [
        "plt.figure(figsize=(15,15))\n",
        "sns.set(style=\"darkgrid\")\n",
        "sns.scatterplot(x=tquestion_features[:,0], y=tquestion_features[:,1], color='b', s=150)\n",
        "sns.scatterplot(x=ttxtneg_features[:,0], y=ttxtneg_features[:,1], color='r', s=150)\n",
        "sns.scatterplot(x=timgneg_features[:,0], y=timgneg_features[:,1], color='orange', s=150)\n",
        "sns.scatterplot(x=timgpos_features[:,0], y=timgpos_features[:,1], color='green', s=150)\n",
        "plt.legend([\"Question\", \"Negative Text\", \"Negative Image\", \"Positive Image\"], fontsize=20)\n",
        "plt.xlabel(\"PC1\")\n",
        "plt.ylabel(\"PC2\")"
      ]
    }
  ],
  "metadata": {
    "interpreter": {
      "hash": "4b4573f74ddebefe888557a45480cb32406e795127ef77fd25190bb90cfd997a"
    },
    "kernelspec": {
      "display_name": "Python 3",
      "name": "python3"
    },
    "language_info": {
      "name": "python"
    },
    "colab": {
      "name": "bert_retrieval_dev.ipynb",
      "provenance": []
    },
    "accelerator": "GPU",
    "widgets": {
      "application/vnd.jupyter.widget-state+json": {
        "d7a176d224a0441285a8c56d8e402a64": {
          "model_module": "@jupyter-widgets/controls",
          "model_name": "HBoxModel",
          "model_module_version": "1.5.0",
          "state": {
            "_dom_classes": [],
            "_model_module": "@jupyter-widgets/controls",
            "_model_module_version": "1.5.0",
            "_model_name": "HBoxModel",
            "_view_count": null,
            "_view_module": "@jupyter-widgets/controls",
            "_view_module_version": "1.5.0",
            "_view_name": "HBoxView",
            "box_style": "",
            "children": [
              "IPY_MODEL_5892bd63d0764fa0951a26a15c94565d",
              "IPY_MODEL_10be3f9fc80b489d8d064a6556b7bad8",
              "IPY_MODEL_f0a28cad61ea43a98213e4c7009003f7"
            ],
            "layout": "IPY_MODEL_776245424d904f0ca45526cd7e980433"
          }
        },
        "5892bd63d0764fa0951a26a15c94565d": {
          "model_module": "@jupyter-widgets/controls",
          "model_name": "HTMLModel",
          "model_module_version": "1.5.0",
          "state": {
            "_dom_classes": [],
            "_model_module": "@jupyter-widgets/controls",
            "_model_module_version": "1.5.0",
            "_model_name": "HTMLModel",
            "_view_count": null,
            "_view_module": "@jupyter-widgets/controls",
            "_view_module_version": "1.5.0",
            "_view_name": "HTMLView",
            "description": "",
            "description_tooltip": null,
            "layout": "IPY_MODEL_184739f54dac48599d3981b2ba7fae27",
            "placeholder": "​",
            "style": "IPY_MODEL_6a25278801d242d7a50ebeca52dbe92c",
            "value": "Downloading: 100%"
          }
        },
        "10be3f9fc80b489d8d064a6556b7bad8": {
          "model_module": "@jupyter-widgets/controls",
          "model_name": "FloatProgressModel",
          "model_module_version": "1.5.0",
          "state": {
            "_dom_classes": [],
            "_model_module": "@jupyter-widgets/controls",
            "_model_module_version": "1.5.0",
            "_model_name": "FloatProgressModel",
            "_view_count": null,
            "_view_module": "@jupyter-widgets/controls",
            "_view_module_version": "1.5.0",
            "_view_name": "ProgressView",
            "bar_style": "success",
            "description": "",
            "description_tooltip": null,
            "layout": "IPY_MODEL_485dc964951b4e9a8d88eb11b31052dc",
            "max": 213450,
            "min": 0,
            "orientation": "horizontal",
            "style": "IPY_MODEL_031fa72898714d529389deadccd790c1",
            "value": 213450
          }
        },
        "f0a28cad61ea43a98213e4c7009003f7": {
          "model_module": "@jupyter-widgets/controls",
          "model_name": "HTMLModel",
          "model_module_version": "1.5.0",
          "state": {
            "_dom_classes": [],
            "_model_module": "@jupyter-widgets/controls",
            "_model_module_version": "1.5.0",
            "_model_name": "HTMLModel",
            "_view_count": null,
            "_view_module": "@jupyter-widgets/controls",
            "_view_module_version": "1.5.0",
            "_view_name": "HTMLView",
            "description": "",
            "description_tooltip": null,
            "layout": "IPY_MODEL_944203b9c6f04e7da12ae9538160cd9e",
            "placeholder": "​",
            "style": "IPY_MODEL_68adc48c7a894c8aa91913800f41d6b4",
            "value": " 208k/208k [00:00&lt;00:00, 2.73MB/s]"
          }
        },
        "776245424d904f0ca45526cd7e980433": {
          "model_module": "@jupyter-widgets/base",
          "model_name": "LayoutModel",
          "model_module_version": "1.2.0",
          "state": {
            "_model_module": "@jupyter-widgets/base",
            "_model_module_version": "1.2.0",
            "_model_name": "LayoutModel",
            "_view_count": null,
            "_view_module": "@jupyter-widgets/base",
            "_view_module_version": "1.2.0",
            "_view_name": "LayoutView",
            "align_content": null,
            "align_items": null,
            "align_self": null,
            "border": null,
            "bottom": null,
            "display": null,
            "flex": null,
            "flex_flow": null,
            "grid_area": null,
            "grid_auto_columns": null,
            "grid_auto_flow": null,
            "grid_auto_rows": null,
            "grid_column": null,
            "grid_gap": null,
            "grid_row": null,
            "grid_template_areas": null,
            "grid_template_columns": null,
            "grid_template_rows": null,
            "height": null,
            "justify_content": null,
            "justify_items": null,
            "left": null,
            "margin": null,
            "max_height": null,
            "max_width": null,
            "min_height": null,
            "min_width": null,
            "object_fit": null,
            "object_position": null,
            "order": null,
            "overflow": null,
            "overflow_x": null,
            "overflow_y": null,
            "padding": null,
            "right": null,
            "top": null,
            "visibility": null,
            "width": null
          }
        },
        "184739f54dac48599d3981b2ba7fae27": {
          "model_module": "@jupyter-widgets/base",
          "model_name": "LayoutModel",
          "model_module_version": "1.2.0",
          "state": {
            "_model_module": "@jupyter-widgets/base",
            "_model_module_version": "1.2.0",
            "_model_name": "LayoutModel",
            "_view_count": null,
            "_view_module": "@jupyter-widgets/base",
            "_view_module_version": "1.2.0",
            "_view_name": "LayoutView",
            "align_content": null,
            "align_items": null,
            "align_self": null,
            "border": null,
            "bottom": null,
            "display": null,
            "flex": null,
            "flex_flow": null,
            "grid_area": null,
            "grid_auto_columns": null,
            "grid_auto_flow": null,
            "grid_auto_rows": null,
            "grid_column": null,
            "grid_gap": null,
            "grid_row": null,
            "grid_template_areas": null,
            "grid_template_columns": null,
            "grid_template_rows": null,
            "height": null,
            "justify_content": null,
            "justify_items": null,
            "left": null,
            "margin": null,
            "max_height": null,
            "max_width": null,
            "min_height": null,
            "min_width": null,
            "object_fit": null,
            "object_position": null,
            "order": null,
            "overflow": null,
            "overflow_x": null,
            "overflow_y": null,
            "padding": null,
            "right": null,
            "top": null,
            "visibility": null,
            "width": null
          }
        },
        "6a25278801d242d7a50ebeca52dbe92c": {
          "model_module": "@jupyter-widgets/controls",
          "model_name": "DescriptionStyleModel",
          "model_module_version": "1.5.0",
          "state": {
            "_model_module": "@jupyter-widgets/controls",
            "_model_module_version": "1.5.0",
            "_model_name": "DescriptionStyleModel",
            "_view_count": null,
            "_view_module": "@jupyter-widgets/base",
            "_view_module_version": "1.2.0",
            "_view_name": "StyleView",
            "description_width": ""
          }
        },
        "485dc964951b4e9a8d88eb11b31052dc": {
          "model_module": "@jupyter-widgets/base",
          "model_name": "LayoutModel",
          "model_module_version": "1.2.0",
          "state": {
            "_model_module": "@jupyter-widgets/base",
            "_model_module_version": "1.2.0",
            "_model_name": "LayoutModel",
            "_view_count": null,
            "_view_module": "@jupyter-widgets/base",
            "_view_module_version": "1.2.0",
            "_view_name": "LayoutView",
            "align_content": null,
            "align_items": null,
            "align_self": null,
            "border": null,
            "bottom": null,
            "display": null,
            "flex": null,
            "flex_flow": null,
            "grid_area": null,
            "grid_auto_columns": null,
            "grid_auto_flow": null,
            "grid_auto_rows": null,
            "grid_column": null,
            "grid_gap": null,
            "grid_row": null,
            "grid_template_areas": null,
            "grid_template_columns": null,
            "grid_template_rows": null,
            "height": null,
            "justify_content": null,
            "justify_items": null,
            "left": null,
            "margin": null,
            "max_height": null,
            "max_width": null,
            "min_height": null,
            "min_width": null,
            "object_fit": null,
            "object_position": null,
            "order": null,
            "overflow": null,
            "overflow_x": null,
            "overflow_y": null,
            "padding": null,
            "right": null,
            "top": null,
            "visibility": null,
            "width": null
          }
        },
        "031fa72898714d529389deadccd790c1": {
          "model_module": "@jupyter-widgets/controls",
          "model_name": "ProgressStyleModel",
          "model_module_version": "1.5.0",
          "state": {
            "_model_module": "@jupyter-widgets/controls",
            "_model_module_version": "1.5.0",
            "_model_name": "ProgressStyleModel",
            "_view_count": null,
            "_view_module": "@jupyter-widgets/base",
            "_view_module_version": "1.2.0",
            "_view_name": "StyleView",
            "bar_color": null,
            "description_width": ""
          }
        },
        "944203b9c6f04e7da12ae9538160cd9e": {
          "model_module": "@jupyter-widgets/base",
          "model_name": "LayoutModel",
          "model_module_version": "1.2.0",
          "state": {
            "_model_module": "@jupyter-widgets/base",
            "_model_module_version": "1.2.0",
            "_model_name": "LayoutModel",
            "_view_count": null,
            "_view_module": "@jupyter-widgets/base",
            "_view_module_version": "1.2.0",
            "_view_name": "LayoutView",
            "align_content": null,
            "align_items": null,
            "align_self": null,
            "border": null,
            "bottom": null,
            "display": null,
            "flex": null,
            "flex_flow": null,
            "grid_area": null,
            "grid_auto_columns": null,
            "grid_auto_flow": null,
            "grid_auto_rows": null,
            "grid_column": null,
            "grid_gap": null,
            "grid_row": null,
            "grid_template_areas": null,
            "grid_template_columns": null,
            "grid_template_rows": null,
            "height": null,
            "justify_content": null,
            "justify_items": null,
            "left": null,
            "margin": null,
            "max_height": null,
            "max_width": null,
            "min_height": null,
            "min_width": null,
            "object_fit": null,
            "object_position": null,
            "order": null,
            "overflow": null,
            "overflow_x": null,
            "overflow_y": null,
            "padding": null,
            "right": null,
            "top": null,
            "visibility": null,
            "width": null
          }
        },
        "68adc48c7a894c8aa91913800f41d6b4": {
          "model_module": "@jupyter-widgets/controls",
          "model_name": "DescriptionStyleModel",
          "model_module_version": "1.5.0",
          "state": {
            "_model_module": "@jupyter-widgets/controls",
            "_model_module_version": "1.5.0",
            "_model_name": "DescriptionStyleModel",
            "_view_count": null,
            "_view_module": "@jupyter-widgets/base",
            "_view_module_version": "1.2.0",
            "_view_name": "StyleView",
            "description_width": ""
          }
        },
        "1f99ed04dc3d414b84d6ad719dd09d4f": {
          "model_module": "@jupyter-widgets/controls",
          "model_name": "HBoxModel",
          "model_module_version": "1.5.0",
          "state": {
            "_dom_classes": [],
            "_model_module": "@jupyter-widgets/controls",
            "_model_module_version": "1.5.0",
            "_model_name": "HBoxModel",
            "_view_count": null,
            "_view_module": "@jupyter-widgets/controls",
            "_view_module_version": "1.5.0",
            "_view_name": "HBoxView",
            "box_style": "",
            "children": [
              "IPY_MODEL_d49d123663d84d3bbcd4957b1388b9eb",
              "IPY_MODEL_70eea31bc42c4878b9dd97a6e23711d1",
              "IPY_MODEL_9ad4aec2baef46729f8d6969accc7fe0"
            ],
            "layout": "IPY_MODEL_f1f6bb4a029249af8610a0e6343d4e17"
          }
        },
        "d49d123663d84d3bbcd4957b1388b9eb": {
          "model_module": "@jupyter-widgets/controls",
          "model_name": "HTMLModel",
          "model_module_version": "1.5.0",
          "state": {
            "_dom_classes": [],
            "_model_module": "@jupyter-widgets/controls",
            "_model_module_version": "1.5.0",
            "_model_name": "HTMLModel",
            "_view_count": null,
            "_view_module": "@jupyter-widgets/controls",
            "_view_module_version": "1.5.0",
            "_view_name": "HTMLView",
            "description": "",
            "description_tooltip": null,
            "layout": "IPY_MODEL_cf992edd89aa4d81aad9f44cd718bff0",
            "placeholder": "​",
            "style": "IPY_MODEL_ae080dfc5a154a74ab203e9c71259572",
            "value": "Downloading: 100%"
          }
        },
        "70eea31bc42c4878b9dd97a6e23711d1": {
          "model_module": "@jupyter-widgets/controls",
          "model_name": "FloatProgressModel",
          "model_module_version": "1.5.0",
          "state": {
            "_dom_classes": [],
            "_model_module": "@jupyter-widgets/controls",
            "_model_module_version": "1.5.0",
            "_model_name": "FloatProgressModel",
            "_view_count": null,
            "_view_module": "@jupyter-widgets/controls",
            "_view_module_version": "1.5.0",
            "_view_name": "ProgressView",
            "bar_style": "success",
            "description": "",
            "description_tooltip": null,
            "layout": "IPY_MODEL_1df7d5de84e545af8ee41fccdffd358a",
            "max": 29,
            "min": 0,
            "orientation": "horizontal",
            "style": "IPY_MODEL_05f153d49ddd4116aef9e21cc3fd24b0",
            "value": 29
          }
        },
        "9ad4aec2baef46729f8d6969accc7fe0": {
          "model_module": "@jupyter-widgets/controls",
          "model_name": "HTMLModel",
          "model_module_version": "1.5.0",
          "state": {
            "_dom_classes": [],
            "_model_module": "@jupyter-widgets/controls",
            "_model_module_version": "1.5.0",
            "_model_name": "HTMLModel",
            "_view_count": null,
            "_view_module": "@jupyter-widgets/controls",
            "_view_module_version": "1.5.0",
            "_view_name": "HTMLView",
            "description": "",
            "description_tooltip": null,
            "layout": "IPY_MODEL_d8e15cd5460d4da6bd938c7afc58b068",
            "placeholder": "​",
            "style": "IPY_MODEL_74e8b2af855a45ae8c0fe6884b378c5b",
            "value": " 29.0/29.0 [00:00&lt;00:00, 844B/s]"
          }
        },
        "f1f6bb4a029249af8610a0e6343d4e17": {
          "model_module": "@jupyter-widgets/base",
          "model_name": "LayoutModel",
          "model_module_version": "1.2.0",
          "state": {
            "_model_module": "@jupyter-widgets/base",
            "_model_module_version": "1.2.0",
            "_model_name": "LayoutModel",
            "_view_count": null,
            "_view_module": "@jupyter-widgets/base",
            "_view_module_version": "1.2.0",
            "_view_name": "LayoutView",
            "align_content": null,
            "align_items": null,
            "align_self": null,
            "border": null,
            "bottom": null,
            "display": null,
            "flex": null,
            "flex_flow": null,
            "grid_area": null,
            "grid_auto_columns": null,
            "grid_auto_flow": null,
            "grid_auto_rows": null,
            "grid_column": null,
            "grid_gap": null,
            "grid_row": null,
            "grid_template_areas": null,
            "grid_template_columns": null,
            "grid_template_rows": null,
            "height": null,
            "justify_content": null,
            "justify_items": null,
            "left": null,
            "margin": null,
            "max_height": null,
            "max_width": null,
            "min_height": null,
            "min_width": null,
            "object_fit": null,
            "object_position": null,
            "order": null,
            "overflow": null,
            "overflow_x": null,
            "overflow_y": null,
            "padding": null,
            "right": null,
            "top": null,
            "visibility": null,
            "width": null
          }
        },
        "cf992edd89aa4d81aad9f44cd718bff0": {
          "model_module": "@jupyter-widgets/base",
          "model_name": "LayoutModel",
          "model_module_version": "1.2.0",
          "state": {
            "_model_module": "@jupyter-widgets/base",
            "_model_module_version": "1.2.0",
            "_model_name": "LayoutModel",
            "_view_count": null,
            "_view_module": "@jupyter-widgets/base",
            "_view_module_version": "1.2.0",
            "_view_name": "LayoutView",
            "align_content": null,
            "align_items": null,
            "align_self": null,
            "border": null,
            "bottom": null,
            "display": null,
            "flex": null,
            "flex_flow": null,
            "grid_area": null,
            "grid_auto_columns": null,
            "grid_auto_flow": null,
            "grid_auto_rows": null,
            "grid_column": null,
            "grid_gap": null,
            "grid_row": null,
            "grid_template_areas": null,
            "grid_template_columns": null,
            "grid_template_rows": null,
            "height": null,
            "justify_content": null,
            "justify_items": null,
            "left": null,
            "margin": null,
            "max_height": null,
            "max_width": null,
            "min_height": null,
            "min_width": null,
            "object_fit": null,
            "object_position": null,
            "order": null,
            "overflow": null,
            "overflow_x": null,
            "overflow_y": null,
            "padding": null,
            "right": null,
            "top": null,
            "visibility": null,
            "width": null
          }
        },
        "ae080dfc5a154a74ab203e9c71259572": {
          "model_module": "@jupyter-widgets/controls",
          "model_name": "DescriptionStyleModel",
          "model_module_version": "1.5.0",
          "state": {
            "_model_module": "@jupyter-widgets/controls",
            "_model_module_version": "1.5.0",
            "_model_name": "DescriptionStyleModel",
            "_view_count": null,
            "_view_module": "@jupyter-widgets/base",
            "_view_module_version": "1.2.0",
            "_view_name": "StyleView",
            "description_width": ""
          }
        },
        "1df7d5de84e545af8ee41fccdffd358a": {
          "model_module": "@jupyter-widgets/base",
          "model_name": "LayoutModel",
          "model_module_version": "1.2.0",
          "state": {
            "_model_module": "@jupyter-widgets/base",
            "_model_module_version": "1.2.0",
            "_model_name": "LayoutModel",
            "_view_count": null,
            "_view_module": "@jupyter-widgets/base",
            "_view_module_version": "1.2.0",
            "_view_name": "LayoutView",
            "align_content": null,
            "align_items": null,
            "align_self": null,
            "border": null,
            "bottom": null,
            "display": null,
            "flex": null,
            "flex_flow": null,
            "grid_area": null,
            "grid_auto_columns": null,
            "grid_auto_flow": null,
            "grid_auto_rows": null,
            "grid_column": null,
            "grid_gap": null,
            "grid_row": null,
            "grid_template_areas": null,
            "grid_template_columns": null,
            "grid_template_rows": null,
            "height": null,
            "justify_content": null,
            "justify_items": null,
            "left": null,
            "margin": null,
            "max_height": null,
            "max_width": null,
            "min_height": null,
            "min_width": null,
            "object_fit": null,
            "object_position": null,
            "order": null,
            "overflow": null,
            "overflow_x": null,
            "overflow_y": null,
            "padding": null,
            "right": null,
            "top": null,
            "visibility": null,
            "width": null
          }
        },
        "05f153d49ddd4116aef9e21cc3fd24b0": {
          "model_module": "@jupyter-widgets/controls",
          "model_name": "ProgressStyleModel",
          "model_module_version": "1.5.0",
          "state": {
            "_model_module": "@jupyter-widgets/controls",
            "_model_module_version": "1.5.0",
            "_model_name": "ProgressStyleModel",
            "_view_count": null,
            "_view_module": "@jupyter-widgets/base",
            "_view_module_version": "1.2.0",
            "_view_name": "StyleView",
            "bar_color": null,
            "description_width": ""
          }
        },
        "d8e15cd5460d4da6bd938c7afc58b068": {
          "model_module": "@jupyter-widgets/base",
          "model_name": "LayoutModel",
          "model_module_version": "1.2.0",
          "state": {
            "_model_module": "@jupyter-widgets/base",
            "_model_module_version": "1.2.0",
            "_model_name": "LayoutModel",
            "_view_count": null,
            "_view_module": "@jupyter-widgets/base",
            "_view_module_version": "1.2.0",
            "_view_name": "LayoutView",
            "align_content": null,
            "align_items": null,
            "align_self": null,
            "border": null,
            "bottom": null,
            "display": null,
            "flex": null,
            "flex_flow": null,
            "grid_area": null,
            "grid_auto_columns": null,
            "grid_auto_flow": null,
            "grid_auto_rows": null,
            "grid_column": null,
            "grid_gap": null,
            "grid_row": null,
            "grid_template_areas": null,
            "grid_template_columns": null,
            "grid_template_rows": null,
            "height": null,
            "justify_content": null,
            "justify_items": null,
            "left": null,
            "margin": null,
            "max_height": null,
            "max_width": null,
            "min_height": null,
            "min_width": null,
            "object_fit": null,
            "object_position": null,
            "order": null,
            "overflow": null,
            "overflow_x": null,
            "overflow_y": null,
            "padding": null,
            "right": null,
            "top": null,
            "visibility": null,
            "width": null
          }
        },
        "74e8b2af855a45ae8c0fe6884b378c5b": {
          "model_module": "@jupyter-widgets/controls",
          "model_name": "DescriptionStyleModel",
          "model_module_version": "1.5.0",
          "state": {
            "_model_module": "@jupyter-widgets/controls",
            "_model_module_version": "1.5.0",
            "_model_name": "DescriptionStyleModel",
            "_view_count": null,
            "_view_module": "@jupyter-widgets/base",
            "_view_module_version": "1.2.0",
            "_view_name": "StyleView",
            "description_width": ""
          }
        },
        "a1370587259642ad960847faa754a181": {
          "model_module": "@jupyter-widgets/controls",
          "model_name": "HBoxModel",
          "model_module_version": "1.5.0",
          "state": {
            "_dom_classes": [],
            "_model_module": "@jupyter-widgets/controls",
            "_model_module_version": "1.5.0",
            "_model_name": "HBoxModel",
            "_view_count": null,
            "_view_module": "@jupyter-widgets/controls",
            "_view_module_version": "1.5.0",
            "_view_name": "HBoxView",
            "box_style": "",
            "children": [
              "IPY_MODEL_1b636d2102dc45ecb045faf02e0381c4",
              "IPY_MODEL_d3141db01d824c1f9d52af057a6be737",
              "IPY_MODEL_1b955c8425ce4aacbe485071f084922a"
            ],
            "layout": "IPY_MODEL_22f24d2a0609443e9cecb67292338e25"
          }
        },
        "1b636d2102dc45ecb045faf02e0381c4": {
          "model_module": "@jupyter-widgets/controls",
          "model_name": "HTMLModel",
          "model_module_version": "1.5.0",
          "state": {
            "_dom_classes": [],
            "_model_module": "@jupyter-widgets/controls",
            "_model_module_version": "1.5.0",
            "_model_name": "HTMLModel",
            "_view_count": null,
            "_view_module": "@jupyter-widgets/controls",
            "_view_module_version": "1.5.0",
            "_view_name": "HTMLView",
            "description": "",
            "description_tooltip": null,
            "layout": "IPY_MODEL_84733d0c00c24a368ee64753a9bc4471",
            "placeholder": "​",
            "style": "IPY_MODEL_8491214c41c042f1ad8689e645500ce5",
            "value": "Downloading: 100%"
          }
        },
        "d3141db01d824c1f9d52af057a6be737": {
          "model_module": "@jupyter-widgets/controls",
          "model_name": "FloatProgressModel",
          "model_module_version": "1.5.0",
          "state": {
            "_dom_classes": [],
            "_model_module": "@jupyter-widgets/controls",
            "_model_module_version": "1.5.0",
            "_model_name": "FloatProgressModel",
            "_view_count": null,
            "_view_module": "@jupyter-widgets/controls",
            "_view_module_version": "1.5.0",
            "_view_name": "ProgressView",
            "bar_style": "success",
            "description": "",
            "description_tooltip": null,
            "layout": "IPY_MODEL_4594c32c0fc34027ba537c44bf206d49",
            "max": 570,
            "min": 0,
            "orientation": "horizontal",
            "style": "IPY_MODEL_c0aa1f783cbd4784ac0a5ce5e0b67f67",
            "value": 570
          }
        },
        "1b955c8425ce4aacbe485071f084922a": {
          "model_module": "@jupyter-widgets/controls",
          "model_name": "HTMLModel",
          "model_module_version": "1.5.0",
          "state": {
            "_dom_classes": [],
            "_model_module": "@jupyter-widgets/controls",
            "_model_module_version": "1.5.0",
            "_model_name": "HTMLModel",
            "_view_count": null,
            "_view_module": "@jupyter-widgets/controls",
            "_view_module_version": "1.5.0",
            "_view_name": "HTMLView",
            "description": "",
            "description_tooltip": null,
            "layout": "IPY_MODEL_033aa1f0f9524f1887b7ef1bc7324ba0",
            "placeholder": "​",
            "style": "IPY_MODEL_7ca3d07608cb44c091475af20b25f2e2",
            "value": " 570/570 [00:00&lt;00:00, 16.7kB/s]"
          }
        },
        "22f24d2a0609443e9cecb67292338e25": {
          "model_module": "@jupyter-widgets/base",
          "model_name": "LayoutModel",
          "model_module_version": "1.2.0",
          "state": {
            "_model_module": "@jupyter-widgets/base",
            "_model_module_version": "1.2.0",
            "_model_name": "LayoutModel",
            "_view_count": null,
            "_view_module": "@jupyter-widgets/base",
            "_view_module_version": "1.2.0",
            "_view_name": "LayoutView",
            "align_content": null,
            "align_items": null,
            "align_self": null,
            "border": null,
            "bottom": null,
            "display": null,
            "flex": null,
            "flex_flow": null,
            "grid_area": null,
            "grid_auto_columns": null,
            "grid_auto_flow": null,
            "grid_auto_rows": null,
            "grid_column": null,
            "grid_gap": null,
            "grid_row": null,
            "grid_template_areas": null,
            "grid_template_columns": null,
            "grid_template_rows": null,
            "height": null,
            "justify_content": null,
            "justify_items": null,
            "left": null,
            "margin": null,
            "max_height": null,
            "max_width": null,
            "min_height": null,
            "min_width": null,
            "object_fit": null,
            "object_position": null,
            "order": null,
            "overflow": null,
            "overflow_x": null,
            "overflow_y": null,
            "padding": null,
            "right": null,
            "top": null,
            "visibility": null,
            "width": null
          }
        },
        "84733d0c00c24a368ee64753a9bc4471": {
          "model_module": "@jupyter-widgets/base",
          "model_name": "LayoutModel",
          "model_module_version": "1.2.0",
          "state": {
            "_model_module": "@jupyter-widgets/base",
            "_model_module_version": "1.2.0",
            "_model_name": "LayoutModel",
            "_view_count": null,
            "_view_module": "@jupyter-widgets/base",
            "_view_module_version": "1.2.0",
            "_view_name": "LayoutView",
            "align_content": null,
            "align_items": null,
            "align_self": null,
            "border": null,
            "bottom": null,
            "display": null,
            "flex": null,
            "flex_flow": null,
            "grid_area": null,
            "grid_auto_columns": null,
            "grid_auto_flow": null,
            "grid_auto_rows": null,
            "grid_column": null,
            "grid_gap": null,
            "grid_row": null,
            "grid_template_areas": null,
            "grid_template_columns": null,
            "grid_template_rows": null,
            "height": null,
            "justify_content": null,
            "justify_items": null,
            "left": null,
            "margin": null,
            "max_height": null,
            "max_width": null,
            "min_height": null,
            "min_width": null,
            "object_fit": null,
            "object_position": null,
            "order": null,
            "overflow": null,
            "overflow_x": null,
            "overflow_y": null,
            "padding": null,
            "right": null,
            "top": null,
            "visibility": null,
            "width": null
          }
        },
        "8491214c41c042f1ad8689e645500ce5": {
          "model_module": "@jupyter-widgets/controls",
          "model_name": "DescriptionStyleModel",
          "model_module_version": "1.5.0",
          "state": {
            "_model_module": "@jupyter-widgets/controls",
            "_model_module_version": "1.5.0",
            "_model_name": "DescriptionStyleModel",
            "_view_count": null,
            "_view_module": "@jupyter-widgets/base",
            "_view_module_version": "1.2.0",
            "_view_name": "StyleView",
            "description_width": ""
          }
        },
        "4594c32c0fc34027ba537c44bf206d49": {
          "model_module": "@jupyter-widgets/base",
          "model_name": "LayoutModel",
          "model_module_version": "1.2.0",
          "state": {
            "_model_module": "@jupyter-widgets/base",
            "_model_module_version": "1.2.0",
            "_model_name": "LayoutModel",
            "_view_count": null,
            "_view_module": "@jupyter-widgets/base",
            "_view_module_version": "1.2.0",
            "_view_name": "LayoutView",
            "align_content": null,
            "align_items": null,
            "align_self": null,
            "border": null,
            "bottom": null,
            "display": null,
            "flex": null,
            "flex_flow": null,
            "grid_area": null,
            "grid_auto_columns": null,
            "grid_auto_flow": null,
            "grid_auto_rows": null,
            "grid_column": null,
            "grid_gap": null,
            "grid_row": null,
            "grid_template_areas": null,
            "grid_template_columns": null,
            "grid_template_rows": null,
            "height": null,
            "justify_content": null,
            "justify_items": null,
            "left": null,
            "margin": null,
            "max_height": null,
            "max_width": null,
            "min_height": null,
            "min_width": null,
            "object_fit": null,
            "object_position": null,
            "order": null,
            "overflow": null,
            "overflow_x": null,
            "overflow_y": null,
            "padding": null,
            "right": null,
            "top": null,
            "visibility": null,
            "width": null
          }
        },
        "c0aa1f783cbd4784ac0a5ce5e0b67f67": {
          "model_module": "@jupyter-widgets/controls",
          "model_name": "ProgressStyleModel",
          "model_module_version": "1.5.0",
          "state": {
            "_model_module": "@jupyter-widgets/controls",
            "_model_module_version": "1.5.0",
            "_model_name": "ProgressStyleModel",
            "_view_count": null,
            "_view_module": "@jupyter-widgets/base",
            "_view_module_version": "1.2.0",
            "_view_name": "StyleView",
            "bar_color": null,
            "description_width": ""
          }
        },
        "033aa1f0f9524f1887b7ef1bc7324ba0": {
          "model_module": "@jupyter-widgets/base",
          "model_name": "LayoutModel",
          "model_module_version": "1.2.0",
          "state": {
            "_model_module": "@jupyter-widgets/base",
            "_model_module_version": "1.2.0",
            "_model_name": "LayoutModel",
            "_view_count": null,
            "_view_module": "@jupyter-widgets/base",
            "_view_module_version": "1.2.0",
            "_view_name": "LayoutView",
            "align_content": null,
            "align_items": null,
            "align_self": null,
            "border": null,
            "bottom": null,
            "display": null,
            "flex": null,
            "flex_flow": null,
            "grid_area": null,
            "grid_auto_columns": null,
            "grid_auto_flow": null,
            "grid_auto_rows": null,
            "grid_column": null,
            "grid_gap": null,
            "grid_row": null,
            "grid_template_areas": null,
            "grid_template_columns": null,
            "grid_template_rows": null,
            "height": null,
            "justify_content": null,
            "justify_items": null,
            "left": null,
            "margin": null,
            "max_height": null,
            "max_width": null,
            "min_height": null,
            "min_width": null,
            "object_fit": null,
            "object_position": null,
            "order": null,
            "overflow": null,
            "overflow_x": null,
            "overflow_y": null,
            "padding": null,
            "right": null,
            "top": null,
            "visibility": null,
            "width": null
          }
        },
        "7ca3d07608cb44c091475af20b25f2e2": {
          "model_module": "@jupyter-widgets/controls",
          "model_name": "DescriptionStyleModel",
          "model_module_version": "1.5.0",
          "state": {
            "_model_module": "@jupyter-widgets/controls",
            "_model_module_version": "1.5.0",
            "_model_name": "DescriptionStyleModel",
            "_view_count": null,
            "_view_module": "@jupyter-widgets/base",
            "_view_module_version": "1.2.0",
            "_view_name": "StyleView",
            "description_width": ""
          }
        },
        "52d61ac716864021911334fc7cae2ff0": {
          "model_module": "@jupyter-widgets/controls",
          "model_name": "HBoxModel",
          "model_module_version": "1.5.0",
          "state": {
            "_dom_classes": [],
            "_model_module": "@jupyter-widgets/controls",
            "_model_module_version": "1.5.0",
            "_model_name": "HBoxModel",
            "_view_count": null,
            "_view_module": "@jupyter-widgets/controls",
            "_view_module_version": "1.5.0",
            "_view_name": "HBoxView",
            "box_style": "",
            "children": [
              "IPY_MODEL_283e3c60eda549859838bf5ada91349f",
              "IPY_MODEL_dd1c103981a4452e9a38265f3f06a3cb",
              "IPY_MODEL_e52118abb48a494b84073e997a69ec27"
            ],
            "layout": "IPY_MODEL_dfc78f8cb44c4d2a91d01348ec3612aa"
          }
        },
        "283e3c60eda549859838bf5ada91349f": {
          "model_module": "@jupyter-widgets/controls",
          "model_name": "HTMLModel",
          "model_module_version": "1.5.0",
          "state": {
            "_dom_classes": [],
            "_model_module": "@jupyter-widgets/controls",
            "_model_module_version": "1.5.0",
            "_model_name": "HTMLModel",
            "_view_count": null,
            "_view_module": "@jupyter-widgets/controls",
            "_view_module_version": "1.5.0",
            "_view_name": "HTMLView",
            "description": "",
            "description_tooltip": null,
            "layout": "IPY_MODEL_5082827d666249aa9fc145153e641226",
            "placeholder": "​",
            "style": "IPY_MODEL_e6e52ae5de744bf29cc0d8c7cd43ad74",
            "value": "Downloading: 100%"
          }
        },
        "dd1c103981a4452e9a38265f3f06a3cb": {
          "model_module": "@jupyter-widgets/controls",
          "model_name": "FloatProgressModel",
          "model_module_version": "1.5.0",
          "state": {
            "_dom_classes": [],
            "_model_module": "@jupyter-widgets/controls",
            "_model_module_version": "1.5.0",
            "_model_name": "FloatProgressModel",
            "_view_count": null,
            "_view_module": "@jupyter-widgets/controls",
            "_view_module_version": "1.5.0",
            "_view_name": "ProgressView",
            "bar_style": "success",
            "description": "",
            "description_tooltip": null,
            "layout": "IPY_MODEL_b9686f066da34632b52b89ab95c310bd",
            "max": 435779157,
            "min": 0,
            "orientation": "horizontal",
            "style": "IPY_MODEL_506aec899adf45d9ba14bac7aee112a0",
            "value": 435779157
          }
        },
        "e52118abb48a494b84073e997a69ec27": {
          "model_module": "@jupyter-widgets/controls",
          "model_name": "HTMLModel",
          "model_module_version": "1.5.0",
          "state": {
            "_dom_classes": [],
            "_model_module": "@jupyter-widgets/controls",
            "_model_module_version": "1.5.0",
            "_model_name": "HTMLModel",
            "_view_count": null,
            "_view_module": "@jupyter-widgets/controls",
            "_view_module_version": "1.5.0",
            "_view_name": "HTMLView",
            "description": "",
            "description_tooltip": null,
            "layout": "IPY_MODEL_5bb68f1e95bb4d978d99c859b21edbfd",
            "placeholder": "​",
            "style": "IPY_MODEL_6630d805fb7248edbdf21c824dfb4f3f",
            "value": " 416M/416M [00:08&lt;00:00, 44.0MB/s]"
          }
        },
        "dfc78f8cb44c4d2a91d01348ec3612aa": {
          "model_module": "@jupyter-widgets/base",
          "model_name": "LayoutModel",
          "model_module_version": "1.2.0",
          "state": {
            "_model_module": "@jupyter-widgets/base",
            "_model_module_version": "1.2.0",
            "_model_name": "LayoutModel",
            "_view_count": null,
            "_view_module": "@jupyter-widgets/base",
            "_view_module_version": "1.2.0",
            "_view_name": "LayoutView",
            "align_content": null,
            "align_items": null,
            "align_self": null,
            "border": null,
            "bottom": null,
            "display": null,
            "flex": null,
            "flex_flow": null,
            "grid_area": null,
            "grid_auto_columns": null,
            "grid_auto_flow": null,
            "grid_auto_rows": null,
            "grid_column": null,
            "grid_gap": null,
            "grid_row": null,
            "grid_template_areas": null,
            "grid_template_columns": null,
            "grid_template_rows": null,
            "height": null,
            "justify_content": null,
            "justify_items": null,
            "left": null,
            "margin": null,
            "max_height": null,
            "max_width": null,
            "min_height": null,
            "min_width": null,
            "object_fit": null,
            "object_position": null,
            "order": null,
            "overflow": null,
            "overflow_x": null,
            "overflow_y": null,
            "padding": null,
            "right": null,
            "top": null,
            "visibility": null,
            "width": null
          }
        },
        "5082827d666249aa9fc145153e641226": {
          "model_module": "@jupyter-widgets/base",
          "model_name": "LayoutModel",
          "model_module_version": "1.2.0",
          "state": {
            "_model_module": "@jupyter-widgets/base",
            "_model_module_version": "1.2.0",
            "_model_name": "LayoutModel",
            "_view_count": null,
            "_view_module": "@jupyter-widgets/base",
            "_view_module_version": "1.2.0",
            "_view_name": "LayoutView",
            "align_content": null,
            "align_items": null,
            "align_self": null,
            "border": null,
            "bottom": null,
            "display": null,
            "flex": null,
            "flex_flow": null,
            "grid_area": null,
            "grid_auto_columns": null,
            "grid_auto_flow": null,
            "grid_auto_rows": null,
            "grid_column": null,
            "grid_gap": null,
            "grid_row": null,
            "grid_template_areas": null,
            "grid_template_columns": null,
            "grid_template_rows": null,
            "height": null,
            "justify_content": null,
            "justify_items": null,
            "left": null,
            "margin": null,
            "max_height": null,
            "max_width": null,
            "min_height": null,
            "min_width": null,
            "object_fit": null,
            "object_position": null,
            "order": null,
            "overflow": null,
            "overflow_x": null,
            "overflow_y": null,
            "padding": null,
            "right": null,
            "top": null,
            "visibility": null,
            "width": null
          }
        },
        "e6e52ae5de744bf29cc0d8c7cd43ad74": {
          "model_module": "@jupyter-widgets/controls",
          "model_name": "DescriptionStyleModel",
          "model_module_version": "1.5.0",
          "state": {
            "_model_module": "@jupyter-widgets/controls",
            "_model_module_version": "1.5.0",
            "_model_name": "DescriptionStyleModel",
            "_view_count": null,
            "_view_module": "@jupyter-widgets/base",
            "_view_module_version": "1.2.0",
            "_view_name": "StyleView",
            "description_width": ""
          }
        },
        "b9686f066da34632b52b89ab95c310bd": {
          "model_module": "@jupyter-widgets/base",
          "model_name": "LayoutModel",
          "model_module_version": "1.2.0",
          "state": {
            "_model_module": "@jupyter-widgets/base",
            "_model_module_version": "1.2.0",
            "_model_name": "LayoutModel",
            "_view_count": null,
            "_view_module": "@jupyter-widgets/base",
            "_view_module_version": "1.2.0",
            "_view_name": "LayoutView",
            "align_content": null,
            "align_items": null,
            "align_self": null,
            "border": null,
            "bottom": null,
            "display": null,
            "flex": null,
            "flex_flow": null,
            "grid_area": null,
            "grid_auto_columns": null,
            "grid_auto_flow": null,
            "grid_auto_rows": null,
            "grid_column": null,
            "grid_gap": null,
            "grid_row": null,
            "grid_template_areas": null,
            "grid_template_columns": null,
            "grid_template_rows": null,
            "height": null,
            "justify_content": null,
            "justify_items": null,
            "left": null,
            "margin": null,
            "max_height": null,
            "max_width": null,
            "min_height": null,
            "min_width": null,
            "object_fit": null,
            "object_position": null,
            "order": null,
            "overflow": null,
            "overflow_x": null,
            "overflow_y": null,
            "padding": null,
            "right": null,
            "top": null,
            "visibility": null,
            "width": null
          }
        },
        "506aec899adf45d9ba14bac7aee112a0": {
          "model_module": "@jupyter-widgets/controls",
          "model_name": "ProgressStyleModel",
          "model_module_version": "1.5.0",
          "state": {
            "_model_module": "@jupyter-widgets/controls",
            "_model_module_version": "1.5.0",
            "_model_name": "ProgressStyleModel",
            "_view_count": null,
            "_view_module": "@jupyter-widgets/base",
            "_view_module_version": "1.2.0",
            "_view_name": "StyleView",
            "bar_color": null,
            "description_width": ""
          }
        },
        "5bb68f1e95bb4d978d99c859b21edbfd": {
          "model_module": "@jupyter-widgets/base",
          "model_name": "LayoutModel",
          "model_module_version": "1.2.0",
          "state": {
            "_model_module": "@jupyter-widgets/base",
            "_model_module_version": "1.2.0",
            "_model_name": "LayoutModel",
            "_view_count": null,
            "_view_module": "@jupyter-widgets/base",
            "_view_module_version": "1.2.0",
            "_view_name": "LayoutView",
            "align_content": null,
            "align_items": null,
            "align_self": null,
            "border": null,
            "bottom": null,
            "display": null,
            "flex": null,
            "flex_flow": null,
            "grid_area": null,
            "grid_auto_columns": null,
            "grid_auto_flow": null,
            "grid_auto_rows": null,
            "grid_column": null,
            "grid_gap": null,
            "grid_row": null,
            "grid_template_areas": null,
            "grid_template_columns": null,
            "grid_template_rows": null,
            "height": null,
            "justify_content": null,
            "justify_items": null,
            "left": null,
            "margin": null,
            "max_height": null,
            "max_width": null,
            "min_height": null,
            "min_width": null,
            "object_fit": null,
            "object_position": null,
            "order": null,
            "overflow": null,
            "overflow_x": null,
            "overflow_y": null,
            "padding": null,
            "right": null,
            "top": null,
            "visibility": null,
            "width": null
          }
        },
        "6630d805fb7248edbdf21c824dfb4f3f": {
          "model_module": "@jupyter-widgets/controls",
          "model_name": "DescriptionStyleModel",
          "model_module_version": "1.5.0",
          "state": {
            "_model_module": "@jupyter-widgets/controls",
            "_model_module_version": "1.5.0",
            "_model_name": "DescriptionStyleModel",
            "_view_count": null,
            "_view_module": "@jupyter-widgets/base",
            "_view_module_version": "1.2.0",
            "_view_name": "StyleView",
            "description_width": ""
          }
        }
      }
    }
  },
  "nbformat": 4,
  "nbformat_minor": 5
}